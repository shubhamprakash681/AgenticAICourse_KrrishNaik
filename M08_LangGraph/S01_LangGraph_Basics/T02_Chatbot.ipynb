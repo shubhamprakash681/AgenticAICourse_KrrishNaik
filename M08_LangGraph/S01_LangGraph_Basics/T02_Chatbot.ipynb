{
 "cells": [
  {
   "cell_type": "markdown",
   "id": "e79b2f89",
   "metadata": {},
   "source": [
    "### Implementing simple Chatbot Using LangGraph"
   ]
  },
  {
   "cell_type": "code",
   "execution_count": 1,
   "id": "6cbb3973",
   "metadata": {},
   "outputs": [],
   "source": [
    "import os\n",
    "from dotenv import load_dotenv\n",
    "load_dotenv()\n",
    "\n",
    "groq_api_key=os.getenv(\"GROQ_API_KEY\")"
   ]
  },
  {
   "cell_type": "code",
   "execution_count": 2,
   "id": "3b904bb3",
   "metadata": {},
   "outputs": [
    {
     "data": {
      "text/plain": [
       "ChatGroq(client=<groq.resources.chat.completions.Completions object at 0x0000023A320F2900>, async_client=<groq.resources.chat.completions.AsyncCompletions object at 0x0000023A320F34D0>, model_name='openai/gpt-oss-120b', model_kwargs={}, groq_api_key=SecretStr('**********'))"
      ]
     },
     "execution_count": 2,
     "metadata": {},
     "output_type": "execute_result"
    }
   ],
   "source": [
    "from langchain_groq import ChatGroq\n",
    "model=ChatGroq(model=\"openai/gpt-oss-120b\",groq_api_key=groq_api_key)\n",
    "model"
   ]
  },
  {
   "cell_type": "code",
   "execution_count": 3,
   "id": "f4ad58b6",
   "metadata": {},
   "outputs": [],
   "source": [
    "from typing_extensions import TypedDict\n",
    "from langgraph.graph import StateGraph, START, END\n",
    "\n",
    "# Reducers\n",
    "from typing import Annotated\n",
    "from langgraph.graph.message import add_messages"
   ]
  },
  {
   "cell_type": "code",
   "execution_count": 4,
   "id": "8f84fffb",
   "metadata": {},
   "outputs": [],
   "source": [
    "class State(TypedDict):\n",
    "    messages: Annotated[list, add_messages]"
   ]
  },
  {
   "cell_type": "markdown",
   "id": "c77291e8",
   "metadata": {},
   "source": [
    "### Nodes"
   ]
  },
  {
   "cell_type": "code",
   "execution_count": 5,
   "id": "f669ba7e",
   "metadata": {},
   "outputs": [],
   "source": [
    "def superbot(state: State) -> State:\n",
    "    return {'messages': model.invoke(state['messages'])}"
   ]
  },
  {
   "cell_type": "markdown",
   "id": "4aec5bfd",
   "metadata": {},
   "source": [
    "### Graph Construction"
   ]
  },
  {
   "cell_type": "code",
   "execution_count": 7,
   "id": "5fd23563",
   "metadata": {},
   "outputs": [
    {
     "data": {
      "image/png": "[encoded data removed]",
      "text/plain": [
       "<IPython.core.display.Image object>"
      ]
     },
     "metadata": {},
     "output_type": "display_data"
    }
   ],
   "source": [
    "from IPython.display import display, Image\n",
    "from langgraph.graph import StateGraph, START, END\n",
    "\n",
    "# Build Graph\n",
    "graph = StateGraph(State)\n",
    "\n",
    "# Adding Nodes\n",
    "graph.add_node('superbot', superbot)\n",
    "\n",
    "# Adding Edges\n",
    "graph.add_edge(START, 'superbot')\n",
    "graph.add_edge('superbot', END)\n",
    "\n",
    "# Compile Graph\n",
    "graph_built = graph.compile()\n",
    "\n",
    "# View\n",
    "display(Image(graph_built.get_graph().draw_mermaid_png(max_retries=5, retry_delay=2.0)))"
   ]
  },
  {
   "cell_type": "markdown",
   "id": "def2e3b7",
   "metadata": {},
   "source": [
    "### Graph Invocation"
   ]
  },
  {
   "cell_type": "code",
   "execution_count": 8,
   "id": "f2ec83d8",
   "metadata": {},
   "outputs": [
    {
     "data": {
      "text/plain": [
       "{'messages': [HumanMessage(content='Hi, My name is Shubham and I like Cricket.', additional_kwargs={}, response_metadata={}, id='0dea6ee0-5fea-4385-97d2-90e2a9980a83'),\n",
       "  AIMessage(content=\"Hello Shubham! Nice to meet you. 🎉\\n\\nCricket is such an exciting sport—do you have a favorite team or player? Are you more into watching the matches, playing yourself, or maybe both? I'd love to hear more about what you enjoy about cricket!\", additional_kwargs={'reasoning_content': 'The user says \"Hi, My name is Shubham and I like Cricket.\" Probably a greeting. We should respond politely, maybe ask about cricket preferences. No disallowed content. Just a friendly reply.'}, response_metadata={'token_usage': {'completion_tokens': 109, 'prompt_tokens': 84, 'total_tokens': 193, 'completion_time': 0.217289225, 'prompt_time': 0.003980586, 'queue_time': 0.050696764, 'total_time': 0.221269811}, 'model_name': 'openai/gpt-oss-120b', 'system_fingerprint': 'fp_82669fd91d', 'service_tier': 'on_demand', 'finish_reason': 'stop', 'logprobs': None}, id='run--a66764db-1f2b-45cd-a76b-fd2f197e8414-0', usage_metadata={'input_tokens': 84, 'output_tokens': 109, 'total_tokens': 193})]}"
      ]
     },
     "execution_count": 8,
     "metadata": {},
     "output_type": "execute_result"
    }
   ],
   "source": [
    "graph_built.invoke({'messages': 'Hi, My name is Shubham and I like Cricket.'})"
   ]
  },
  {
   "cell_type": "markdown",
   "id": "c28bfac9",
   "metadata": {},
   "source": [
    "### Streaming Response"
   ]
  },
  {
   "cell_type": "code",
   "execution_count": null,
   "id": "d9fd6340",
   "metadata": {},
   "outputs": [
    {
     "name": "stdout",
     "output_type": "stream",
     "text": [
      "{'superbot': {'messages': AIMessage(content='Hello Shubham! 👋 Great to meet you.  \\n\\nCricket is such an exciting sport—do you have a favorite team or player? Are you more into watching matches, playing yourself, or maybe both? Let me know what you’d like to chat about!', additional_kwargs={'reasoning_content': 'The user says \"Hi, My name is Shubham and I like Cricket.\" Probably wants a greeting and maybe ask something? The user just introduced themselves. The assistant should respond politely, greet, ask about cricket preferences, perhaps ask if they want to talk about cricket. Keep friendly.'}, response_metadata={'token_usage': {'completion_tokens': 123, 'prompt_tokens': 84, 'total_tokens': 207, 'completion_time': 0.245418299, 'prompt_time': 0.004417287, 'queue_time': 0.049654443, 'total_time': 0.249835586}, 'model_name': 'openai/gpt-oss-120b', 'system_fingerprint': 'fp_82669fd91d', 'service_tier': 'on_demand', 'finish_reason': 'stop', 'logprobs': None}, id='run--e99315a3-252b-41d2-bdd8-d739463bcab1-0', usage_metadata={'input_tokens': 84, 'output_tokens': 123, 'total_tokens': 207})}}\n"
     ]
    }
   ],
   "source": [
    "for event in graph_built.stream({'messages': 'Hi, My name is Shubham and I like Cricket.'}):\n",
    "    print(event)"
   ]
  }
 ],
 "metadata": {
  "kernelspec": {
   "display_name": "M08_LangGraph",
   "language": "python",
   "name": "python3"
  },
  "language_info": {
   "codemirror_mode": {
    "name": "ipython",
    "version": 3
   },
   "file_extension": ".py",
   "mimetype": "text/x-python",
   "name": "python",
   "nbconvert_exporter": "python",
   "pygments_lexer": "ipython3",
   "version": "3.13.5"
  }
 },
 "nbformat": 4,
 "nbformat_minor": 5
}
